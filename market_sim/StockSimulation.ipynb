{
 "cells": [
  {
   "cell_type": "markdown",
   "metadata": {},
   "source": [
    "# Mercado de Valores - Simulacion Computacional\n",
    "## Universidad de Sonora"
   ]
  },
  {
   "cell_type": "markdown",
   "metadata": {},
   "source": [
    "### Descripción de la problemática general.\n",
    "El mercado de valores puede es volatil dado la enorme cantidad de productos en oferta asi como, noticias, politicas economicas y conflictos entre empresas y naciones. El principal objetivo del mercado de valores es el de ayudar al movimiento de capitales, contribuyendo de esta forma en la estabilidad monetaria y financiera. Es así como el uso democrático de los mercados de valores impulsa el desarrollo de políticas monetarias más activas y seguras. El mercado de valores es de una gran importancia en la económica nacional e internacional por tener las siguientes funciones:\n",
    "\n",
    "    * Contribuye al desarrollo económico al canalizar el ahorro hacia la inversión.\n",
    "    * Brinda liquidez a la inversión, permitiendo que los portadores de títulos puedan convertir en dinero sus acciones.\n",
    "    * Coloca en contacto a las empresas y las entidades del Estado que necesitan recursos de inversión de ahorradores.\n",
    "    * Favorecen la valoración de activos financieros y la asignación eficiente de los recursos.\n",
    "\n",
    "El mercado es una parte fundamental de la economia de un pais, ser capaz de analizarlo y dar modelos que puedan predecir su comportamiento. El analisis prescriptivo conlleva la aplicacion de ciencias de la computacion y matematicas y sugiere decisiones para tomar ventajas de los resultados. Los participantes inlcuye inversores individuales, instituciones como son bancos, fondos de inversion, compañias de seguros.\n",
    "\n",
    "El mercado tiene muchos jugadores y muchos bienes a su disposicion, entre tantos factores y variables ser capaz de tener una simulacion del tablero ayudara a entender su comportamiento y experimentar modelos que logren una ventaja en el mercado.\n",
    "\n",
    "### Enunciar las variables aleatorias que son de interés en el modelamiento.\n",
    "\n",
    "Un acción es un tipo de bien que da la propiedad de un porcentaje de alguna compañia. Esto permite al beneficiario de tal acción tener una parte de los activos de la empresa y sus ganancias. Acciones son vendidas y compradas en el mercado, aunque pueden ocurrir compras privadas tambien. Los valores de las acciones varian segun que tan confiable sea la compañia a la cual pertenecen las acciones, escandalos, noticias, regulaciones gubernamentales afectan su valor, haciendo el mercado aun mas volatil. \n",
    "\n",
    "El valor de una compañia determina el precio de sus acciones, este valor es tanto por sus bienes materiales como por la confianza que tiene el mercado en ella, una confianza que puede ser dañada y asi afectando el precio que llegan a tener a traves del tiempo, el mercado siempre esta en movimiento.\n",
    "\n",
    "Las variables precio y tiempo se usan visualizar el mercado, el valor de las acciones varia a traves del tiempo, modelos dan un posible valor dentro de un error.\n",
    "\n",
    "### Dar un flujo o secuenciación natural al problema.\n",
    "\n",
    "<img src=\"diag.png\" style=\"height:222px;\">\n",
    "\n",
    "Inversores compran acciones que se esten comerciando en el mercado, estas transacciones siguen las normas y politicas que tenga establecidas el gobierno al que pertenece el mercado. Las compañias ofrecen sus acciones la venta, los precios de estas varian a traves del tiempo. Esas variaciones son las que deben ser analizadas y simuladas.\n",
    "\n",
    "### Describir la simulación en eventos discretos que se realizaría a través del modelo.\n",
    "   La simulacion seria los precios que tengan las acciones cada dia, siendo cada dia el intervalo discreto que usaremos. Utilizando los precios de dias anteriores podemos tener una expectativa de lo que sucedera en dias siguientes.\n",
    "    \n",
    "### Dar una posible salida de la simulación.\n",
    "La salida de la simulacion puede ser los valores que tendra el precio de las acciones que estamos simulando en un periodo de tiempo que podria ser una semana. \n",
    "\n",
    "### Reconocer las métricas para la validación del sistema.\n",
    "Al pasar los dias podemos recuperar los precios reales que tuve el mercado, entonces verificar que tanto error tuvo nuestro modelos. Esta validacion con los datos reales puede comprobar que tan bueno es nuestra simulacion."
   ]
  },
  {
   "cell_type": "code",
   "execution_count": 1,
   "metadata": {},
   "outputs": [
    {
     "name": "stdout",
     "output_type": "stream",
     "text": [
      "Libraries Load done.\n"
     ]
    }
   ],
   "source": [
    "import numpy as np # linear algebra\n",
    "import pandas as pd # data processing, CSV file I/O (e.g. pd.read_csv)\n",
    "import matplotlib.pyplot as plt # Plot and charts\n",
    "print(\"Libraries Load done.\")"
   ]
  },
  {
   "cell_type": "code",
   "execution_count": 2,
   "metadata": {},
   "outputs": [
    {
     "name": "stdout",
     "output_type": "stream",
     "text": [
      "Data done.\n"
     ]
    }
   ],
   "source": [
    "# Cargando datos\n",
    "df = pd.read_csv(\"GOOGL_data.csv\")\n",
    "print(\"Data done.\")"
   ]
  },
  {
   "cell_type": "markdown",
   "metadata": {},
   "source": [
    "Contamos con los datos de varios stocks, para un análisis inicial de como se componen estos datos, exploraremos estos datos, graficandolos y creando funciones que nos den información adicional."
   ]
  },
  {
   "cell_type": "code",
   "execution_count": 4,
   "metadata": {},
   "outputs": [
    {
     "name": "stdout",
     "output_type": "stream",
     "text": [
      "         date      open      high       low     close   volume   Name\n",
      "0  2013-02-08  390.4551  393.7283  390.1698  393.0777  6031199  GOOGL\n",
      "1  2013-02-11  389.5892  391.8915  387.2619  391.6012  4330781  GOOGL\n",
      "2  2013-02-12  391.2659  394.3440  390.0747  390.7403  3714176  GOOGL\n",
      "3  2013-02-13  390.4551  393.0677  390.3750  391.8214  2393946  GOOGL\n",
      "4  2013-02-14  390.2549  394.7644  389.2739  394.3039  3466971  GOOGL\n",
      "(1259, 7)\n",
      "Index(['date', 'open', 'high', 'low', 'close', 'volume', 'Name'], dtype='object')\n"
     ]
    }
   ],
   "source": [
    "print(df.head())\n",
    "print(df.shape)\n",
    "print(df.columns)"
   ]
  },
  {
   "cell_type": "markdown",
   "metadata": {},
   "source": [
    "En esta visualizacion rapida, podemos ver que tenemos los valores usuales en el analisis de mercado. De estos valores podemos obtener la diferencia de precio de apertura (`open`) con el de cierre de mercados (`close`), y podemos ver si hay uan perdidao o ganancia en ese día. \n",
    "Tenemos 1259 datos"
   ]
  },
  {
   "cell_type": "code",
   "execution_count": 5,
   "metadata": {},
   "outputs": [
    {
     "name": "stdout",
     "output_type": "stream",
     "text": [
      "              open         high          low        close        volume\n",
      "count  1259.000000  1259.000000  1259.000000  1259.000000  1.259000e+03\n",
      "mean    682.357041   687.362776   676.691790   682.233847  2.457501e+06\n",
      "std     187.409986   188.531563   186.265742   187.573892  1.591432e+06\n",
      "min     384.964600   390.164800   381.010700   383.340000  5.211410e+05\n",
      "25%     543.660000   547.585000   539.200000   543.022500  1.456867e+06\n",
      "50%     651.570000   658.255500   642.165000   652.470000  1.938260e+06\n",
      "75%     805.960000   810.739500   801.565000   806.400000  3.031624e+06\n",
      "max    1188.000000  1198.000000  1184.060000  1187.560000  2.314537e+07\n"
     ]
    }
   ],
   "source": [
    "print(df.describe())"
   ]
  },
  {
   "cell_type": "code",
   "execution_count": 6,
   "metadata": {},
   "outputs": [
    {
     "name": "stdout",
     "output_type": "stream",
     "text": [
      "<class 'pandas.core.frame.DataFrame'>\n",
      "RangeIndex: 1259 entries, 0 to 1258\n",
      "Data columns (total 7 columns):\n",
      "date      1259 non-null object\n",
      "open      1259 non-null float64\n",
      "high      1259 non-null float64\n",
      "low       1259 non-null float64\n",
      "close     1259 non-null float64\n",
      "volume    1259 non-null int64\n",
      "Name      1259 non-null object\n",
      "dtypes: float64(4), int64(1), object(2)\n",
      "memory usage: 68.9+ KB\n",
      "None\n"
     ]
    }
   ],
   "source": [
    "print(df.info())"
   ]
  },
  {
   "cell_type": "code",
   "execution_count": 7,
   "metadata": {},
   "outputs": [
    {
     "data": {
      "image/png": "[encoded data removed]",
      "text/plain": [
       "<Figure size 432x288 with 1 Axes>"
      ]
     },
     "metadata": {
      "needs_background": "light"
     },
     "output_type": "display_data"
    }
   ],
   "source": [
    "df[['close']].plot()\n",
    "plt.title(\"Google - Close prices\")\n",
    "plt.show()"
   ]
  },
  {
   "cell_type": "markdown",
   "metadata": {},
   "source": [
    "En estre gráfico podemos ver como el precio en al final del día de las acciones de google va en aumento. hasta sobrepasar el vvalor 1100 doláres que son las unidades en las que esta representado los precios de nuestra base de datos"
   ]
  },
  {
   "cell_type": "markdown",
   "metadata": {},
   "source": [
    "En estas gráficas podemos ver los valores en crudo de la tabla, noten que el eje x está en escala de enteros para las fechas de las que tenemos registro, queremos tener una gráfica en la que podamos ver por fechas."
   ]
  },
  {
   "cell_type": "code",
   "execution_count": 3,
   "metadata": {},
   "outputs": [
    {
     "name": "stdout",
     "output_type": "stream",
     "text": [
      "<class 'pandas.core.frame.DataFrame'>\n",
      "RangeIndex: 1259 entries, 0 to 1258\n",
      "Data columns (total 7 columns):\n",
      "date      1259 non-null datetime64[ns]\n",
      "open      1259 non-null float64\n",
      "high      1259 non-null float64\n",
      "low       1259 non-null float64\n",
      "close     1259 non-null float64\n",
      "volume    1259 non-null int64\n",
      "Name      1259 non-null object\n",
      "dtypes: datetime64[ns](1), float64(4), int64(1), object(1)\n",
      "memory usage: 68.9+ KB\n"
     ]
    }
   ],
   "source": [
    "df['date'] = pd.to_datetime(df['date'])\n",
    "df.info()"
   ]
  },
  {
   "cell_type": "code",
   "execution_count": 16,
   "metadata": {},
   "outputs": [
    {
     "data": {
      "image/png": "[encoded data removed]",
      "text/plain": [
       "<Figure size 432x288 with 1 Axes>"
      ]
     },
     "metadata": {
      "needs_background": "light"
     },
     "output_type": "display_data"
    }
   ],
   "source": [
    "plt.plot(df['date'], df['close'])\n",
    "plt.title(\"Google - Close prices\")\n",
    "plt.show()"
   ]
  },
  {
   "cell_type": "markdown",
   "metadata": {},
   "source": [
    "## Indicadores financieros\n",
    "\n",
    "Primero durante este proyecto vamos a ver unos instrumentos utilizados en análisis financiero que no requieran algoritmos de aprendizaje automatico, uno que podemos calcular de forma sencilla es "
   ]
  }
 ],
 "metadata": {
  "kernelspec": {
   "display_name": "Python 3",
   "language": "python",
   "name": "python3"
  },
  "language_info": {
   "codemirror_mode": {
    "name": "ipython",
    "version": 3
   },
   "file_extension": ".py",
   "mimetype": "text/x-python",
   "name": "python",
   "nbconvert_exporter": "python",
   "pygments_lexer": "ipython3",
   "version": "3.7.3"
  }
 },
 "nbformat": 4,
 "nbformat_minor": 2
}
